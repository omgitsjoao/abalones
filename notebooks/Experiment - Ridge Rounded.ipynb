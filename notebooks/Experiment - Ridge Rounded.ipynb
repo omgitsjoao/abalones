{
 "cells": [
  {
   "cell_type": "code",
   "execution_count": 1,
   "metadata": {},
   "outputs": [],
   "source": [
    "import os\n",
    "os.chdir('..')"
   ]
  },
  {
   "cell_type": "code",
   "execution_count": 2,
   "metadata": {},
   "outputs": [],
   "source": [
    "import pandas as pd\n",
    "import numpy as np\n",
    "from sklearn.linear_model import Ridge\n",
    "from sklearn.model_selection import GridSearchCV, train_test_split\n",
    "from sklearn.preprocessing import MinMaxScaler\n",
    "from sklearn.pipeline import Pipeline\n",
    "from common.eval import cross_val_rmse\n",
    "from common.dataset import load_abalones, load_info\n",
    "from common.api import describe_fields\n",
    "\n",
    "\n",
    "np.random.seed = 70"
   ]
  },
  {
   "cell_type": "code",
   "execution_count": 3,
   "metadata": {},
   "outputs": [
    {
     "name": "stdout",
     "output_type": "stream",
     "text": [
      "\n",
      " 1. Title of Database: Abalone data\n",
      "\n",
      "2. Sources:\n",
      "\n",
      "   (a) Original owners of database:\n",
      "\tMarine Resources Division\n",
      "\tMarine Research Laboratories - Taroona\n",
      "\tDepartment of Primary Industry and Fisheries, Tasmania\n",
      "\tGPO Box 619F, Hobart, Tasmania 7001, Australia\n",
      "\t(contact: Warwick Nash +61 02 277277, wnash@dpi.tas.gov.au)\n",
      "\n",
      "   (b) Donor of database:\n",
      "\tSam Waugh (Sam.Waugh@cs.utas.edu.au)\n",
      "\tDepartment of Computer Science, University of Tasmania\n",
      "\tGPO Box 252C, Hobart, Tasmania 7001, Australia\n",
      "\n",
      "   (c) Date received: December 1995\n",
      "\n",
      "\n",
      "3. Past Usage:\n",
      "\n",
      "   Sam Waugh (1995) \"Extending and benchmarking Cascade-Correlation\", PhD\n",
      "   thesis, Computer Science Department, University of Tasmania.\n",
      "\n",
      "   -- Test set performance (final 1044 examples, first 3133 used for training):\n",
      "\t24.86% Cascade-Correlation (no hidden nodes)\n",
      "\t26.25% Cascade-Correlation (5 hidden nodes)\n",
      "\t21.5%  C4.5\n",
      "\t 0.0%  Linear Discriminate Analysis\n",
      "\t 3.57% k=5 Nearest Neighbour\n",
      "      (Problem encoded as a classification task)\n",
      "\n",
      "   -- Data set samples are highly overlapped.  Further information is required\n",
      "\tto separate completely using affine combinations.  Other restrictions\n",
      "\tto data set examined.\n",
      "\n",
      "   David Clark, Zoltan Schreter, Anthony Adams \"A Quantitative Comparison of\n",
      "   Dystal and Backpropagation\", submitted to the Australian Conference on\n",
      "   Neural Networks (ACNN'96). Data set treated as a 3-category classification\n",
      "   problem (grouping ring classes 1-8, 9 and 10, and 11 on).\n",
      "\n",
      "   -- Test set performance (3133 training, 1044 testing as above):\n",
      "\t64%    Backprop\n",
      "\t55%    Dystal\n",
      "   -- Previous work (Waugh, 1995) on same data set:\n",
      "\t61.40% Cascade-Correlation (no hidden nodes)\n",
      "\t65.61% Cascade-Correlation (5 hidden nodes)\n",
      "\t59.2%  C4.5\n",
      "\t32.57% Linear Discriminate Analysis\n",
      "\t62.46% k=5 Nearest Neighbour\n",
      "\n",
      "\n",
      "4. Relevant Information Paragraph:\n",
      "\n",
      "   Predicting the age of abalone from physical measurements.  The age of\n",
      "   abalone is determined by cutting the shell through the cone, staining it,\n",
      "   and counting the number of rings through a microscope -- a boring and\n",
      "   time-consuming task.  Other measurements, which are easier to obtain, are\n",
      "   used to predict the age.  Further information, such as weather patterns\n",
      "   and location (hence food availability) may be required to solve the problem.\n",
      "\n",
      "   From the original data examples with missing values were removed (the\n",
      "   majority having the predicted value missing), and the ranges of the\n",
      "   continuous values have been scaled for use with an ANN (by dividing by 200).\n",
      "\n",
      "   Data comes from an original (non-machine-learning) study:\n",
      "\n",
      "\tWarwick J Nash, Tracy L Sellers, Simon R Talbot, Andrew J Cawthorn and\n",
      "\tWes B Ford (1994) \"The Population Biology of Abalone (_Haliotis_\n",
      "\tspecies) in Tasmania. I. Blacklip Abalone (_H. rubra_) from the North\n",
      "\tCoast and Islands of Bass Strait\", Sea Fisheries Division, Technical\n",
      "\tReport No. 48 (ISSN 1034-3288)\n",
      "\n",
      "\n",
      "5. Number of Instances: 4177\n",
      "\n",
      "\n",
      "6. Number of Attributes: 8\n",
      "\n",
      "\n",
      "7. Attribute information:\n",
      "\n",
      "   Given is the attribute name, attribute type, the measurement unit and a\n",
      "   brief description.  The number of rings is the value to predict: either\n",
      "   as a continuous value or as a classification problem.\n",
      "\n",
      "\tName\t\tData Type\tMeas.\tDescription\n",
      "\t----\t\t---------\t-----\t-----------\n",
      "\tSex\t\tnominal\t\t\tM, F, and I (infant)\n",
      "\tLength\t\tcontinuous\tmm\tLongest shell measurement\n",
      "\tDiameter\tcontinuous\tmm\tperpendicular to length\n",
      "\tHeight\t\tcontinuous\tmm\twith meat in shell\n",
      "\tWhole weight\tcontinuous\tgrams\twhole abalone\n",
      "\tShucked weight\tcontinuous\tgrams\tweight of meat\n",
      "\tViscera weight\tcontinuous\tgrams\tgut weight (after bleeding)\n",
      "\tShell weight\tcontinuous\tgrams\tafter being dried\n",
      "\tRings\t\tinteger\t\t\t+1.5 gives the age in years\n",
      "\n",
      "   Statistics for numeric domains:\n",
      "\n",
      "\t\tLength\tDiam\tHeight\tWhole\tShucked\tViscera\tShell\tRings\n",
      "\tMin\t0.075\t0.055\t0.000\t0.002\t0.001\t0.001\t0.002\t    1\n",
      "\tMax\t0.815\t0.650\t1.130\t2.826\t1.488\t0.760\t1.005\t   29\n",
      "\tMean\t0.524\t0.408\t0.140\t0.829\t0.359\t0.181\t0.239\t9.934\n",
      "\tSD\t0.120\t0.099\t0.042\t0.490\t0.222\t0.110\t0.139\t3.224\n",
      "\tCorrel\t0.557\t0.575\t0.557\t0.540\t0.421\t0.504\t0.628\t  1.0\n",
      "\n",
      "\n",
      "8. Missing Attribute Values: None\n",
      "\n",
      "\n",
      "9. Class Distribution:\n",
      "\n",
      "\tClass\tExamples\n",
      "\t-----\t--------\n",
      "\t1\t1\n",
      "\t2\t1\n",
      "\t3\t15\n",
      "\t4\t57\n",
      "\t5\t115\n",
      "\t6\t259\n",
      "\t7\t391\n",
      "\t8\t568\n",
      "\t9\t689\n",
      "\t10\t634\n",
      "\t11\t487\n",
      "\t12\t267\n",
      "\t13\t203\n",
      "\t14\t126\n",
      "\t15\t103\n",
      "\t16\t67\n",
      "\t17\t58\n",
      "\t18\t42\n",
      "\t19\t32\n",
      "\t20\t26\n",
      "\t21\t14\n",
      "\t22\t6\n",
      "\t23\t9\n",
      "\t24\t2\n",
      "\t25\t1\n",
      "\t26\t1\n",
      "\t27\t2\n",
      "\t29\t1\n",
      "\t-----\t----\n",
      "\tTotal\t4177\n",
      " \n",
      "\n",
      "None\n"
     ]
    }
   ],
   "source": [
    "data = load_abalones()\n",
    "print(load_info())"
   ]
  },
  {
   "cell_type": "markdown",
   "metadata": {},
   "source": [
    "### Preprocess"
   ]
  },
  {
   "cell_type": "code",
   "execution_count": 4,
   "metadata": {},
   "outputs": [
    {
     "name": "stdout",
     "output_type": "stream",
     "text": [
      "resulting columns: diameter, whole_weight, rings, sex_F, sex_I, sex_M\n"
     ]
    }
   ],
   "source": [
    "# remove the found high correlated features when doing the analysis\n",
    "cols_remove = ['length', 'height', 'shucked_weight', 'viscera_weight', 'shell_weight']\n",
    "dropped = data.drop(cols_remove, axis=1)\n",
    "# generate dummies for Sex\n",
    "dropped = pd.get_dummies(dropped)\n",
    "print(\"resulting columns:\", \", \".join(dropped.columns))"
   ]
  },
  {
   "cell_type": "code",
   "execution_count": 5,
   "metadata": {},
   "outputs": [],
   "source": [
    "describe_fields(dropped, 'Ridge Rounded')"
   ]
  },
  {
   "cell_type": "code",
   "execution_count": 6,
   "metadata": {},
   "outputs": [],
   "source": [
    "# define pipeline\n",
    "X = dropped.drop(['rings'], axis=1)\n",
    "y = dropped['rings']\n",
    "\n",
    "# normalization\n",
    "scaler = MinMaxScaler()\n",
    "X = scaler.fit_transform(X)\n"
   ]
  },
  {
   "cell_type": "code",
   "execution_count": 7,
   "metadata": {},
   "outputs": [
    {
     "name": "stdout",
     "output_type": "stream",
     "text": [
      "Best parameters found:  {'alpha': 0.5, 'normalize': True, 'solver': 'sag'}\n"
     ]
    }
   ],
   "source": [
    "grid = {\n",
    "    'alpha': [0.01, 0.05, 0.1, 0.5, 1, 2, 3],\n",
    "    'normalize': [True, False],\n",
    "    'solver': ['svd', 'cholesky', 'lsqr', 'sparse_cg', 'sag', 'saga']\n",
    "    }\n",
    "\n",
    "search = GridSearchCV(Ridge(), grid, cv=10)\n",
    "search.fit(X, y)\n",
    "best_params = search.best_params_\n",
    "print(\"Best parameters found: \", best_params)"
   ]
  },
  {
   "cell_type": "code",
   "execution_count": 8,
   "metadata": {},
   "outputs": [
    {
     "name": "stdout",
     "output_type": "stream",
     "text": [
      "Mean score 2.579431789183267\n"
     ]
    }
   ],
   "source": [
    "model = Ridge(**best_params)\n",
    "scores = cross_val_rmse(model, X, y, cv=10)\n",
    "print(f\"Mean score {np.mean(scores)}\")"
   ]
  },
  {
   "cell_type": "code",
   "execution_count": 9,
   "metadata": {},
   "outputs": [
    {
     "data": {
      "text/plain": [
       "Ridge(alpha=0.5, copy_X=True, fit_intercept=True, max_iter=None,\n",
       "   normalize=True, random_state=None, solver='sag', tol=0.001)"
      ]
     },
     "execution_count": 9,
     "metadata": {},
     "output_type": "execute_result"
    }
   ],
   "source": [
    "model = Ridge(**best_params)\n",
    "X_train, X_test, y_train, y_test = train_test_split(X, y)\n",
    "model.fit(X_train, y_train)\n"
   ]
  },
  {
   "cell_type": "code",
   "execution_count": 10,
   "metadata": {},
   "outputs": [
    {
     "data": {
      "text/html": [
       "<div>\n",
       "<style scoped>\n",
       "    .dataframe tbody tr th:only-of-type {\n",
       "        vertical-align: middle;\n",
       "    }\n",
       "\n",
       "    .dataframe tbody tr th {\n",
       "        vertical-align: top;\n",
       "    }\n",
       "\n",
       "    .dataframe thead th {\n",
       "        text-align: right;\n",
       "    }\n",
       "</style>\n",
       "<table border=\"1\" class=\"dataframe\">\n",
       "  <thead>\n",
       "    <tr style=\"text-align: right;\">\n",
       "      <th></th>\n",
       "      <th>predicted</th>\n",
       "      <th>true</th>\n",
       "    </tr>\n",
       "  </thead>\n",
       "  <tbody>\n",
       "    <tr>\n",
       "      <th>1860</th>\n",
       "      <td>9.0</td>\n",
       "      <td>10</td>\n",
       "    </tr>\n",
       "    <tr>\n",
       "      <th>1363</th>\n",
       "      <td>11.0</td>\n",
       "      <td>10</td>\n",
       "    </tr>\n",
       "    <tr>\n",
       "      <th>4123</th>\n",
       "      <td>9.0</td>\n",
       "      <td>8</td>\n",
       "    </tr>\n",
       "    <tr>\n",
       "      <th>3259</th>\n",
       "      <td>12.0</td>\n",
       "      <td>18</td>\n",
       "    </tr>\n",
       "    <tr>\n",
       "      <th>4113</th>\n",
       "      <td>9.0</td>\n",
       "      <td>8</td>\n",
       "    </tr>\n",
       "  </tbody>\n",
       "</table>\n",
       "</div>"
      ],
      "text/plain": [
       "      predicted  true\n",
       "1860        9.0    10\n",
       "1363       11.0    10\n",
       "4123        9.0     8\n",
       "3259       12.0    18\n",
       "4113        9.0     8"
      ]
     },
     "execution_count": 10,
     "metadata": {},
     "output_type": "execute_result"
    }
   ],
   "source": [
    "predicts = np.around(model.predict(X_test))\n",
    "results = pd.DataFrame({'true': y_test, 'predicted': predicts})\n",
    "results.head()"
   ]
  },
  {
   "cell_type": "code",
   "execution_count": 11,
   "metadata": {},
   "outputs": [],
   "source": [
    "def diff_error(y, yhat):\n",
    "    \"An error calculated by the difference of the rounded predicted age to the actual value\"\n",
    "    diff = y - yhat\n",
    "    return np.sqrt(np.mean(np.square(diff)))"
   ]
  },
  {
   "cell_type": "code",
   "execution_count": 12,
   "metadata": {},
   "outputs": [
    {
     "name": "stdout",
     "output_type": "stream",
     "text": [
      "\n",
      "The mean difference from the original target rings,\n",
      "using the rounded transformation of the predicted\n",
      "value is: 2.5415212262620726\n",
      "\n",
      "\n"
     ]
    }
   ],
   "source": [
    "msg = f\"\"\"\n",
    "The mean difference from the original target rings,\n",
    "using the rounded transformation of the predicted\n",
    "value is: {diff_error(y_test, predicts)}\n",
    "\n",
    "\"\"\"\n",
    "\n",
    "print(msg)"
   ]
  },
  {
   "cell_type": "markdown",
   "metadata": {},
   "source": [
    "### Experiment Conclusion\n",
    "\n",
    "We modeled the experiment as a regression task with a Ridge regressor, using the features Sex (One Hot Encoding), Diameter, and Whole Weight targeting the Rings amount. **The result is far from accurate enought** to preserve the infant ones, with a mean error of 2.5 using the rounded prediction we have an error of about 3.75 years."
   ]
  }
 ],
 "metadata": {
  "kernelspec": {
   "display_name": "Python 3",
   "language": "python",
   "name": "python3"
  },
  "language_info": {
   "codemirror_mode": {
    "name": "ipython",
    "version": 3
   },
   "file_extension": ".py",
   "mimetype": "text/x-python",
   "name": "python",
   "nbconvert_exporter": "python",
   "pygments_lexer": "ipython3",
   "version": "3.6.3"
  }
 },
 "nbformat": 4,
 "nbformat_minor": 2
}
